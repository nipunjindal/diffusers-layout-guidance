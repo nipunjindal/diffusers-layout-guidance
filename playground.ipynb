{
 "cells": [
  {
   "cell_type": "code",
   "execution_count": 1,
   "outputs": [],
   "source": [
    "%load_ext autoreload\n",
    "%autoreload 2"
   ],
   "metadata": {
    "collapsed": false
   }
  },
  {
   "cell_type": "markdown",
   "source": [
    "# TODO\n",
    "1. Add datatypes\n",
    "2. Create PIP package\n",
    "3. Additional document in __call__()\n",
    "4. READme"
   ],
   "metadata": {
    "collapsed": false
   }
  },
  {
   "cell_type": "code",
   "execution_count": 31,
   "outputs": [],
   "source": [
    "from PIL import Image, ImageDraw, ImageFont\n",
    "from typing import Dict, Tuple\n",
    "\n",
    "def draw_box(pil_img: Image, layout_info: Dict[str, Tuple[float, float, float, float]]) -> Image:\n",
    "    # initialize width, height from pil_img\n",
    "    width, height = pil_img.size\n",
    "    draw = ImageDraw.Draw(pil_img)\n",
    "\n",
    "    for phrase, bbox in layout_info.items():\n",
    "        x_0, y_0, x_1, y_1 = bbox\n",
    "        draw.rectangle([int(x_0 * width), int(y_0 * height), int(x_1 * width), int(y_1 * height)], outline='red', width=4)\n",
    "        draw.text((int(x_0 * width) + 5, int(y_0 * height) + 5), phrase, fill=(255, 0, 0))\n",
    "    return pil_img\n"
   ],
   "metadata": {
    "collapsed": false
   }
  },
  {
   "cell_type": "code",
   "execution_count": 9,
   "metadata": {
    "collapsed": true
   },
   "outputs": [
    {
     "name": "stderr",
     "output_type": "stream",
     "text": [
      "`text_config_dict` is provided which will be used to initialize `CLIPTextConfig`. The value `text_config[\"id2label\"]` will be overriden.\n"
     ]
    }
   ],
   "source": [
    "from layoutguidance.layout_guidance_pipeline import LayoutGuidanceStableDiffusionPipeline\n",
    "from diffusers import HeunDiscreteScheduler\n",
    "import torch\n",
    "seed = 33\n",
    "\n",
    "pipe = LayoutGuidanceStableDiffusionPipeline.from_pretrained(\"CompVis/stable-diffusion-v1-4\")\n",
    "pipe = pipe.to(\"mps\")\n",
    "pipe.scheduler = HeunDiscreteScheduler.from_config(pipe.scheduler.config)\n",
    "generator = torch.Generator(device=\"mps\").manual_seed(seed)"
   ]
  },
  {
   "cell_type": "code",
   "execution_count": 36,
   "outputs": [
    {
     "name": "stdout",
     "output_type": "stream",
     "text": [
      "[[3]]\n"
     ]
    },
    {
     "data": {
      "text/plain": "  0%|          | 0/1 [00:00<?, ?it/s]",
      "application/vnd.jupyter.widget-view+json": {
       "version_major": 2,
       "version_minor": 0,
       "model_id": "eebc3ec2f46d4f909bdd9157721a74bc"
      },
      "application/json": {
       "n": 0,
       "total": 1,
       "elapsed": 0.002079010009765625,
       "ncols": null,
       "nrows": null,
       "prefix": "",
       "ascii": false,
       "unit": "it",
       "unit_scale": false,
       "rate": null,
       "bar_format": null,
       "postfix": null,
       "unit_divisor": 1000,
       "initial": 0,
       "colour": null
      }
     },
     "metadata": {},
     "output_type": "display_data"
    },
    {
     "name": "stderr",
     "output_type": "stream",
     "text": [
      "Potential NSFW content was detected in one or more images. A black image will be returned instead. Try again with a different prompt and/or seed.\n"
     ]
    },
    {
     "data": {
      "text/plain": "<PIL.Image.Image image mode=RGB size=512x512>",
      "image/png": "[encoded data removed]"
     },
     "metadata": {},
     "output_type": "display_data"
    }
   ],
   "source": [
    "prompt = \"A red car\"\n",
    "layout_info = {\"car\": [0.1, 0.2, 0.5, 0.8]}\n",
    "image = pipe(prompt, num_inference_steps=1, layout_info=layout_info).images[0]\n",
    "image = draw_box(image, layout_info)\n",
    "display(image)"
   ],
   "metadata": {
    "collapsed": false
   }
  }
 ],
 "metadata": {
  "kernelspec": {
   "display_name": "Python 3",
   "language": "python",
   "name": "python3"
  },
  "language_info": {
   "codemirror_mode": {
    "name": "ipython",
    "version": 2
   },
   "file_extension": ".py",
   "mimetype": "text/x-python",
   "name": "python",
   "nbconvert_exporter": "python",
   "pygments_lexer": "ipython2",
   "version": "2.7.6"
  }
 },
 "nbformat": 4,
 "nbformat_minor": 0
}
