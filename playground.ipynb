{
 "cells": [
  {
   "cell_type": "code",
   "execution_count": 1,
   "outputs": [],
   "source": [
    "%load_ext autoreload\n",
    "%autoreload 2"
   ],
   "metadata": {
    "collapsed": false
   }
  },
  {
   "cell_type": "markdown",
   "source": [
    "# TODO\n",
    "1. Add datatypes\n",
    "2. Create PIP package\n",
    "3. Additional document in __call__()\n",
    "4. READme"
   ],
   "metadata": {
    "collapsed": false
   }
  },
  {
   "cell_type": "code",
   "execution_count": 2,
   "outputs": [],
   "source": [
    "from PIL import Image, ImageDraw\n",
    "from typing import Dict, Tuple, List\n",
    "\n",
    "def draw_box(pil_img: Image, layout_info: Dict[str, Tuple[float, float, float, float]]) -> Image:\n",
    "    # initialize width, height from pil_img\n",
    "    width, height = pil_img.size\n",
    "    draw = ImageDraw.Draw(pil_img)\n",
    "\n",
    "    for phrase, bbox in layout_info.items():\n",
    "        x_0, y_0, x_1, y_1 = bbox\n",
    "        draw.rectangle([int(x_0 * width), int(y_0 * height), int(x_1 * width), int(y_1 * height)], outline='red', width=4)\n",
    "        draw.text((int(x_0 * width) + 5, int(y_0 * height) + 5), phrase, fill=(255, 0, 0))\n",
    "    return pil_img\n",
    "\n",
    "def layout_index(prompt: str, layout_info: Dict[str, Tuple[float, float, float, float]]) -> Tuple[List[List[int]], Tuple[float, float, float, float]]:\n",
    "    prompt_list = prompt.strip('.').split(' ')\n",
    "    object_positions = []\n",
    "    for obj, bbox in layout_info.items():\n",
    "        obj_words = obj.split(' ')\n",
    "        obj_first_index = prompt_list.index(obj_words[0]) + 1\n",
    "        if len(obj_words) > 1:\n",
    "            obj_last_index = prompt_list.index(obj_words[-1]) + 1\n",
    "            obj_position = list(range(obj_first_index, obj_last_index + 1))\n",
    "        else:\n",
    "            obj_position = [obj_first_index]\n",
    "        object_positions.append((obj_position, bbox))\n",
    "\n",
    "    return object_positions"
   ],
   "metadata": {
    "collapsed": false
   }
  },
  {
   "cell_type": "code",
   "execution_count": 16,
   "metadata": {
    "collapsed": true
   },
   "outputs": [
    {
     "ename": "ImportError",
     "evalue": "cannot import name 'draw_box' from 'layoutguidance.layout_guidance_pipeline' (/Users/njindal/build/diffusers-layout-guidance/layoutguidance/layout_guidance_pipeline.py)",
     "output_type": "error",
     "traceback": [
      "\u001B[0;31m---------------------------------------------------------------------------\u001B[0m",
      "\u001B[0;31mImportError\u001B[0m                               Traceback (most recent call last)",
      "Cell \u001B[0;32mIn[16], line 1\u001B[0m\n\u001B[0;32m----> 1\u001B[0m \u001B[38;5;28;01mfrom\u001B[39;00m \u001B[38;5;21;01mlayoutguidance\u001B[39;00m\u001B[38;5;21;01m.\u001B[39;00m\u001B[38;5;21;01mlayout_guidance_pipeline\u001B[39;00m \u001B[38;5;28;01mimport\u001B[39;00m LayoutGuidanceStableDiffusionPipeline, draw_box\n\u001B[1;32m      2\u001B[0m \u001B[38;5;28;01mfrom\u001B[39;00m \u001B[38;5;21;01mdiffusers\u001B[39;00m \u001B[38;5;28;01mimport\u001B[39;00m EulerDiscreteScheduler, LMSDiscreteScheduler\n\u001B[1;32m      3\u001B[0m \u001B[38;5;28;01mimport\u001B[39;00m \u001B[38;5;21;01mtorch\u001B[39;00m\n",
      "\u001B[0;31mImportError\u001B[0m: cannot import name 'draw_box' from 'layoutguidance.layout_guidance_pipeline' (/Users/njindal/build/diffusers-layout-guidance/layoutguidance/layout_guidance_pipeline.py)"
     ]
    }
   ],
   "source": [
    "from layoutguidance.layout_guidance_pipeline import LayoutGuidanceStableDiffusionPipeline\n",
    "from diffusers import EulerDiscreteScheduler, LMSDiscreteScheduler\n",
    "import torch\n",
    "seed = 33\n",
    "\n",
    "pipe = LayoutGuidanceStableDiffusionPipeline.from_pretrained(\"runwayml/stable-diffusion-v1-5\")\n",
    "pipe = pipe.to(\"mps\")\n",
    "pipe.scheduler = EulerDiscreteScheduler.from_config(pipe.scheduler.config)\n",
    "# pipe.scheduler = LMSDiscreteScheduler.from_config(pipe.scheduler.config)\n",
    "generator = torch.Generator(device=\"mps\").manual_seed(seed)"
   ]
  },
  {
   "cell_type": "code",
   "execution_count": null,
   "outputs": [
    {
     "data": {
      "text/plain": "  0%|          | 0/20 [00:00<?, ?it/s]",
      "application/vnd.jupyter.widget-view+json": {
       "version_major": 2,
       "version_minor": 0,
       "model_id": "1ff95fb0d5fe45e0886c901e15de252f"
      },
      "application/json": {
       "n": 0,
       "total": 20,
       "elapsed": 0.002294778823852539,
       "ncols": null,
       "nrows": null,
       "prefix": "",
       "ascii": false,
       "unit": "it",
       "unit_scale": false,
       "rate": null,
       "bar_format": null,
       "postfix": null,
       "unit_divisor": 1000,
       "initial": 0,
       "colour": null
      }
     },
     "metadata": {},
     "output_type": "display_data"
    }
   ],
   "source": [
    "prompt = \"A cat playing with a ball\"\n",
    "bboxes = [[0.55, 0.4, 0.95, 0.8]]\n",
    "image = pipe(prompt, num_inference_steps=20,\n",
    "             token_indices=[[2]],\n",
    "             # generator=generator,\n",
    "             bboxes=bboxes).images[0]\n",
    "image = pipe.draw_box(image, bboxes)\n",
    "display(image)"
   ],
   "metadata": {
    "collapsed": false,
    "pycharm": {
     "is_executing": true
    }
   }
  }
 ],
 "metadata": {
  "kernelspec": {
   "display_name": "Python 3",
   "language": "python",
   "name": "python3"
  },
  "language_info": {
   "codemirror_mode": {
    "name": "ipython",
    "version": 2
   },
   "file_extension": ".py",
   "mimetype": "text/x-python",
   "name": "python",
   "nbconvert_exporter": "python",
   "pygments_lexer": "ipython2",
   "version": "2.7.6"
  }
 },
 "nbformat": 4,
 "nbformat_minor": 0
}
